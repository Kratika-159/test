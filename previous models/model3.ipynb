version https://git-lfs.github.com/spec/v1
oid sha256:41952b5e16360f942156a9f6ae1b7deb503124abb7ce4f41269b53d28d351ece
size 122826126
